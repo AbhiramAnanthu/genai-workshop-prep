{
  "nbformat": 4,
  "nbformat_minor": 0,
  "metadata": {
    "colab": {
      "provenance": [],
      "authorship_tag": "ABX9TyPeRDVorPkXRsyjgN6lByi1",
      "include_colab_link": true
    },
    "kernelspec": {
      "name": "python3",
      "display_name": "Python 3"
    },
    "language_info": {
      "name": "python"
    }
  },
  "cells": [
    {
      "cell_type": "markdown",
      "metadata": {
        "id": "view-in-github",
        "colab_type": "text"
      },
      "source": [
        "<a href=\"https://colab.research.google.com/github/AbhiramAnanthu/genai-workshop-prep/blob/develop/ktu_tools.ipynb\" target=\"_parent\"><img src=\"https://colab.research.google.com/assets/colab-badge.svg\" alt=\"Open In Colab\"/></a>"
      ]
    },
    {
      "cell_type": "markdown",
      "source": [
        "# **Tools**"
      ],
      "metadata": {
        "id": "P8zRhMYO8M4X"
      }
    },
    {
      "cell_type": "code",
      "execution_count": null,
      "metadata": {
        "id": "jkSWCf4L8HfB"
      },
      "outputs": [],
      "source": [
        "!pip install selenium beautifulSoup4 google-genai"
      ]
    },
    {
      "cell_type": "code",
      "source": [
        "import requests\n",
        "from IPython.display import Markdown\n",
        "import json\n",
        "from bs4 import BeautifulSoup\n",
        "\n",
        "def parse(url):\n",
        "  try:\n",
        "    response = requests.get(url)\n",
        "    soup = BeautifulSoup(response.content, \"html.parser\")\n",
        "    a_tags = soup.find_all('a',class_='elementor-button')\n",
        "\n",
        "    drive_links = [\n",
        "        {\n",
        "            \"name\": tag.find('span', class_='elementor-button-text').text.lower().strip(),\n",
        "            \"url\": tag.get('href'),\n",
        "        }\n",
        "        for tag in a_tags\n",
        "    ]\n",
        "    return drive_links\n",
        "  except Exception as e:\n",
        "    print(e)"
      ],
      "metadata": {
        "id": "62wNrB269QtJ"
      },
      "execution_count": 1,
      "outputs": []
    },
    {
      "cell_type": "code",
      "source": [
        "def crawl():\n",
        "  \"\"\"\n",
        "  Gets all drive links of notes semester 4 of computer science and engineering under APJKTU from a website(ktunotes.com).\n",
        "  args: None\n",
        "  returns: list of dictionaries\n",
        "  \"\"\"\n",
        "  try:\n",
        "    start_url  = \"https://www.ktunotes.in/ktu-s4-cse-notes-2019-scheme/\"\n",
        "    response = requests.get(start_url)\n",
        "    if response.ok:\n",
        "      soup = BeautifulSoup(response.content, \"html.parser\")\n",
        "      a_tags = soup.find_all('a',class_='elementor-button')\n",
        "      subject_links = [\n",
        "          {\n",
        "              \"subject\": tag.find('span', class_='elementor-button-text').text.lower(),\n",
        "              \"url\": tag.get('href'),\n",
        "          }\n",
        "          for tag in a_tags\n",
        "      ]\n",
        "      drive_links = [\n",
        "          {\n",
        "              tag['subject']: parse(tag['url'])\n",
        "          }\n",
        "          for tag in subject_links\n",
        "      ]\n",
        "      return drive_links\n",
        "    else:\n",
        "      return \"website error\"\n",
        "  except Exception as e:\n",
        "    print(e)\n",
        "    return None"
      ],
      "metadata": {
        "id": "XmKjDa7roIej"
      },
      "execution_count": 2,
      "outputs": []
    },
    {
      "cell_type": "code",
      "source": [
        "from google.genai import Client\n",
        "from google.genai import types\n",
        "from google.colab import userdata\n",
        "\n",
        "client = Client(api_key=userdata.get(\"GOOGLE_API_KEY\"))"
      ],
      "metadata": {
        "id": "vZx9-W2ID1PK"
      },
      "execution_count": 3,
      "outputs": []
    },
    {
      "cell_type": "code",
      "source": [
        "def parse_pdf(url: str,prompt: str):\n",
        "  \"\"\"\n",
        "  This function downloads the pdf file from the given url.\n",
        "  Passess the pdf binary to llm and gets the response for user's question.\n",
        "  args:\n",
        "  url(drive url in view form), prompt(user's question regarding the pdf)\n",
        "  returns:\n",
        "  str(llm response in string)\n",
        "  \"\"\"\n",
        "  download_format = (\"https://drive.usercontent.google.com/u/0/uc?id={id}&export=download\")\n",
        "  part, rest = url.split(\"d/\",1)\n",
        "  id, rest  = rest.split(\"/\",1)\n",
        "  download_url = download_format.format(id=id)\n",
        "  response = requests.get(download_url)\n",
        "\n",
        "  if \"Content-Disposition\" in response.headers:\n",
        "    content_disposition = response.headers['Content-Disposition']\n",
        "    file_name =  content_disposition.split(\"filename=\")[-1].strip('\"\"')\n",
        "\n",
        "    with open(f\"{file_name}.pdf\", \"wb\") as file:\n",
        "      file.write(response.content)\n",
        "\n",
        "  system_prompt = (\n",
        "      \"\\nYou are a pdf question answering system\\n\"\n",
        "      \"\\nHere is the user's question\\n\"\n",
        "      \"\\n{prompt}\\n\"\n",
        "  )\n",
        "\n",
        "  llm_response = client.models.generate_content(\n",
        "      model=\"gemini-2.0-flash\",\n",
        "      contents=[\n",
        "          types.Part.from_bytes(\n",
        "              data=response.content,\n",
        "              mime_type=\"application/pdf\",\n",
        "          ),\n",
        "          system_prompt.format(prompt=prompt)\n",
        "      ]\n",
        "  )\n",
        "\n",
        "  return llm_response.text"
      ],
      "metadata": {
        "id": "ZFPKygZ469Q5"
      },
      "execution_count": 4,
      "outputs": []
    },
    {
      "cell_type": "code",
      "source": [
        "system_prompt = (\n",
        "    \"\\nYou are an helper for a college student studying in semester 4 computer science and engineering using APJKTU.\\n\",\n",
        "    \"\\nYour capabilites are:\\n\",\n",
        "    \"\\n1. Fetching notes from a website(ktunotes.com)\\n\",\n",
        "    \"\\n2. Answering user's question regarding a pdf- a pdf qa system\\n\",\n",
        "    \"\\nWhen the user asks anything related to the notes regarding s4 ktu notes for computer science and engineering use the tools.\\n\",\n",
        "    \"\\nWhen user asks question based on any pdf, find which pdf they are referring to and use necessary tool for parsing the pdf\\n\"\n",
        ")\n",
        "\n",
        "config = types.GenerateContentConfig(\n",
        "    tools=[crawl,parse_pdf],\n",
        "    system_instruction=system_prompt\n",
        ")"
      ],
      "metadata": {
        "id": "XelPfg9tAqvs"
      },
      "execution_count": 5,
      "outputs": []
    },
    {
      "cell_type": "code",
      "source": [
        "from pydantic import TypeAdapter\n",
        "\n",
        "history_adapter = TypeAdapter(list[types.Content])"
      ],
      "metadata": {
        "id": "Ec1PgZkYl1yh"
      },
      "execution_count": 6,
      "outputs": []
    },
    {
      "cell_type": "code",
      "source": [
        "from IPython.display import Markdown\n",
        "def converse():\n",
        "  history = []\n",
        "  while True:\n",
        "    chat = client.chats.create(\n",
        "      model=\"gemini-2.0-flash\",\n",
        "      config=config,\n",
        "      history=history\n",
        "    )\n",
        "\n",
        "    message = str(input(\"query: \"))\n",
        "    if message in ['q','exit','quit']:\n",
        "      break\n",
        "    response=chat.send_message(message=message)\n",
        "    display(Markdown(data=response.text))\n",
        "    history=chat.get_history()\n",
        "converse()"
      ],
      "metadata": {
        "colab": {
          "base_uri": "https://localhost:8080/",
          "height": 644
        },
        "id": "mfxtYhy3vRJ8",
        "outputId": "db9ac093-27a1-4015-ad25-62ce3a9080ea"
      },
      "execution_count": 7,
      "outputs": [
        {
          "name": "stdout",
          "output_type": "stream",
          "text": [
            "query: hi what can you do\n"
          ]
        },
        {
          "output_type": "display_data",
          "data": {
            "text/plain": [
              "<IPython.core.display.Markdown object>"
            ],
            "text/markdown": "I can help you with your studies in semester 4 computer science and engineering under APJKTU. I can fetch notes from ktunotes.com and answer your questions regarding a PDF. Just let me know what you need!\n"
          },
          "metadata": {}
        },
        {
          "name": "stdout",
          "output_type": "stream",
          "text": [
            "query: ok can you get me dbms s4 notes\n"
          ]
        },
        {
          "output_type": "display_data",
          "data": {
            "text/plain": [
              "<IPython.core.display.Markdown object>"
            ],
            "text/markdown": "Here are the available DBMS notes:\n\n*   check syllabus: [https://drive.google.com/file/d/1nzyc3Rt5tEDNzjnoRPtbO9pvJx\\_j8QKd/view](https://drive.google.com/file/d/1nzyc3Rt5tEDNzjnoRPtbO9pvJx_j8QKd/view)\n*   module 1: [https://drive.google.com/file/d/158962-F2t\\_bI0rigpzGe8hGppEjo18VX/view?usp=share\\_link](https://drive.google.com/file/d/158962-F2t_bI0rigpzGe8hGppEjo18VX/view?usp=share_link)\n*   module 2: [https://drive.google.com/file/d/1irJiSjyvZS01Op6ZkRgjCxSf-tzMBFnm/view?usp=share\\_link](https://drive.google.com/file/d/1irJiSjyvZS01Op6ZkRgjCxSf-tzMBFnm/view?usp=share_link)\n*   module 3: [https://drive.google.com/file/d/1tGgN4aYcbt2iBVz4wb\\_tDf1zmTt9Cf2C/view?usp=share\\_link](https://drive.google.com/file/d/1tGgN4aYcbt2iBVz4wb_tDf1zmTt9Cf2C/view?usp=share_link)\n*   module 4: [https://drive.google.com/file/d/1WkYoh-Ln1EQi-XDJPCHUYZdNbQyHMi7a/view?usp=share\\_link](https://drive.google.com/file/d/1WkYoh-Ln1EQi-XDJPCHUYZdNbQyHMi7a/view?usp=share_link)\n*   module 5: [https://drive.google.com/file/d/1lwBBAXaI50BYEK\\_MqIi1XNBpK4kGetWO/view?usp=share\\_link](https://drive.google.com/file/d/1lwBBAXaI50BYEK_MqIi1XNBpK4kGetWO/view?usp=share_link)\n*   module 1: [https://drive.google.com/file/d/10AkgddXQiPEuG90ktyneeGI91rA-0FTA/view?usp=share\\_link](https://drive.google.com/file/d/10AkgddXQiPEuG90ktyneeGI91rA-0FTA/view?usp=share_link)\n*   module 2: [https://drive.google.com/file/d/1uNjsmdOawtF1tFz5Uko2zETlIlrG1O0G/view?usp=share\\_link](https://drive.google.com/file/d/1uNjsmdOawtF1tFz5Uko2zETlIlrG1O0G/view?usp=share_link)\n*   module 3: [https://drive.google.com/file/d/1Drs95-kjaLUD-sxjxlKZBhFjl0iasGYi/view?usp=share\\_link](https://drive.google.com/file/d/1Drs95-kjaLUD-sxjxlKZBhFjl0iasGYi/view?usp=share_link)\n\n"
          },
          "metadata": {}
        },
        {
          "name": "stdout",
          "output_type": "stream",
          "text": [
            "query: ok now from the first module is a pdf can you get me important defenitions from that drive link\n"
          ]
        },
        {
          "output_type": "display_data",
          "data": {
            "text/plain": [
              "<IPython.core.display.Markdown object>"
            ],
            "text/markdown": "Please specify which module 1 link you are referring to, as there are two listed.\n"
          },
          "metadata": {}
        },
        {
          "name": "stdout",
          "output_type": "stream",
          "text": [
            "query: the first one\n"
          ]
        },
        {
          "output_type": "display_data",
          "data": {
            "text/plain": [
              "<IPython.core.display.Markdown object>"
            ],
            "text/markdown": "Ok, I will use this link: https://drive.google.com/file/d/158962-F2t_bI0rigpzGe8hGppEjo18VX/view?usp=share_link. What definitions are you looking for from this module?\n"
          },
          "metadata": {}
        },
        {
          "name": "stdout",
          "output_type": "stream",
          "text": [
            "query: yes\n"
          ]
        },
        {
          "output_type": "display_data",
          "data": {
            "text/plain": [
              "<IPython.core.display.Markdown object>"
            ],
            "text/markdown": "Here are some important definitions from the document:\n\n*   **Data:** Known facts that can be recorded and have implicit meaning.\n*   **Database:** A collection of data.\n*   **Database-management system (DBMS):** A collection of interrelated data and a set of programs to access those data.\n*   **Universe of discourse (UoD) or Miniworld:** The aspects of the real world that the database represents.\n*   **Data Model:** A collection of concepts that can be used to describe the structure of a database.\n*   **Database schema:** The description of a database.\n*   **Database state:** The data in database at a particular instant or moment of time.\n*   **Entities:** An object in the real world with its attributes.\n*   **Attributes:** A property of an object.\n*   **Relationships:** How different entities are linked.\n"
          },
          "metadata": {}
        },
        {
          "name": "stdout",
          "output_type": "stream",
          "text": [
            "query: exit\n"
          ]
        }
      ]
    },
    {
      "cell_type": "code",
      "source": [],
      "metadata": {
        "id": "RtwTqZxCKHnX"
      },
      "execution_count": null,
      "outputs": []
    }
  ]
}